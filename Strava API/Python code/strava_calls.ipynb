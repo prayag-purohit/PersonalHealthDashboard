{
 "cells": [
  {
   "cell_type": "code",
   "execution_count": 3,
   "metadata": {},
   "outputs": [],
   "source": [
    "import requests\n",
    "import urllib3\n",
    "import pandas as pd\n",
    "urllib3.disable_warnings(urllib3.exceptions.InsecureRequestWarning)\n",
    "#https://towardsdatascience.com/using-the-strava-api-and-pandas-to-explore-your-activity-data-d94901d9bfde\n"
   ]
  },
  {
   "cell_type": "code",
   "execution_count": 4,
   "metadata": {},
   "outputs": [],
   "source": [
    "auth_url = \"https://www.strava.com/oauth/token\"\n",
    "activites_url = \"https://www.strava.com/api/v3/athlete/activities\"\n",
    "\n",
    "#replace variables with values for your account\n",
    "payload = {\n",
    "    'client_id': \"107774\",\n",
    "    'client_secret': 'e3894bdbcf599a97f769e4964f344a7603ccc812',\n",
    "    'refresh_token': 'f8c106be9364567eae147a014a25656c7ddb9855',\n",
    "    'grant_type': \"refresh_token\",\n",
    "    'f': 'json'\n",
    "}"
   ]
  },
  {
   "cell_type": "code",
   "execution_count": 5,
   "metadata": {},
   "outputs": [
    {
     "name": "stdout",
     "output_type": "stream",
     "text": [
      "Requesting Token...\n",
      "\n",
      "Access Token = 22e6f4be1cfaf682e1a80877ce552d7a58ea83e0\n",
      "\n"
     ]
    }
   ],
   "source": [
    "print(\"Requesting Token...\\n\")\n",
    "res = requests.post(auth_url, data=payload, verify=False)\n",
    "access_token = res.json()['access_token']\n",
    "print(\"Access Token = {}\\n\".format(access_token))"
   ]
  },
  {
   "cell_type": "code",
   "execution_count": 6,
   "metadata": {},
   "outputs": [
    {
     "name": "stdout",
     "output_type": "stream",
     "text": [
      "Monday evening 5k\n",
      "klxcCwujwLIDxGiAvAGM?q@G[D@FKFtAGL?DDIJoAx@cAp@g@VrDiC^[E?QLMBy@b@I?GENIpAS?E]U`@Zc@IW@aBXi@@fBUv@AF@@BGFQJq@Rp@UNIHQ?Eq@Vm@JA?zAUoAEk@@g@B~CIJD?DKFYH_ADa@C_@GO?o@Z{A\\s@Fe@A\n"
     ]
    }
   ],
   "source": [
    "header = {'Authorization': 'Bearer ' + access_token}\n",
    "param = {'per_page': 200, 'page': 1}\n",
    "my_dataset = requests.get(activites_url, headers=header, params=param).json()\n",
    "\n",
    "print(my_dataset[0][\"name\"])\n",
    "print(my_dataset[0][\"map\"][\"summary_polyline\"])"
   ]
  },
  {
   "cell_type": "code",
   "execution_count": 7,
   "metadata": {},
   "outputs": [],
   "source": [
    "activities = pd.json_normalize(my_dataset)"
   ]
  },
  {
   "cell_type": "code",
   "execution_count": 29,
   "metadata": {},
   "outputs": [],
   "source": [
    "#activities.columns"
   ]
  },
  {
   "cell_type": "code",
   "execution_count": 8,
   "metadata": {},
   "outputs": [
    {
     "data": {
      "text/html": [
       "<div>\n",
       "<style scoped>\n",
       "    .dataframe tbody tr th:only-of-type {\n",
       "        vertical-align: middle;\n",
       "    }\n",
       "\n",
       "    .dataframe tbody tr th {\n",
       "        vertical-align: top;\n",
       "    }\n",
       "\n",
       "    .dataframe thead th {\n",
       "        text-align: right;\n",
       "    }\n",
       "</style>\n",
       "<table border=\"1\" class=\"dataframe\">\n",
       "  <thead>\n",
       "    <tr style=\"text-align: right;\">\n",
       "      <th></th>\n",
       "      <th>name</th>\n",
       "      <th>distance</th>\n",
       "      <th>moving_time</th>\n",
       "      <th>elapsed_time</th>\n",
       "      <th>total_elevation_gain</th>\n",
       "      <th>type</th>\n",
       "      <th>sport_type</th>\n",
       "      <th>workout_type</th>\n",
       "      <th>start_date_local</th>\n",
       "      <th>location_city</th>\n",
       "      <th>start_latlng</th>\n",
       "      <th>end_latlng</th>\n",
       "      <th>average_speed</th>\n",
       "      <th>max_speed</th>\n",
       "      <th>upload_id</th>\n",
       "      <th>start_time</th>\n",
       "    </tr>\n",
       "  </thead>\n",
       "  <tbody>\n",
       "    <tr>\n",
       "      <th>0</th>\n",
       "      <td>Monday evening 5k</td>\n",
       "      <td>7203.0</td>\n",
       "      <td>1954</td>\n",
       "      <td>2643</td>\n",
       "      <td>16.3</td>\n",
       "      <td>Run</td>\n",
       "      <td>Run</td>\n",
       "      <td>2</td>\n",
       "      <td>2023-05-22</td>\n",
       "      <td>None</td>\n",
       "      <td>[21.755251558497548, 72.14996203780174]</td>\n",
       "      <td>[21.75527025014162, 72.14976883493364]</td>\n",
       "      <td>3.686</td>\n",
       "      <td>16.551</td>\n",
       "      <td>9784922370</td>\n",
       "      <td>19:58:37</td>\n",
       "    </tr>\n",
       "    <tr>\n",
       "      <th>1</th>\n",
       "      <td>Evening Run</td>\n",
       "      <td>1752.2</td>\n",
       "      <td>681</td>\n",
       "      <td>692</td>\n",
       "      <td>15.4</td>\n",
       "      <td>Run</td>\n",
       "      <td>Run</td>\n",
       "      <td>0</td>\n",
       "      <td>2021-11-19</td>\n",
       "      <td>None</td>\n",
       "      <td>[21.74567892216146, 72.13510234840214]</td>\n",
       "      <td>[21.746788937598467, 72.14080673642457]</td>\n",
       "      <td>2.573</td>\n",
       "      <td>3.910</td>\n",
       "      <td>6672986713</td>\n",
       "      <td>18:15:08</td>\n",
       "    </tr>\n",
       "  </tbody>\n",
       "</table>\n",
       "</div>"
      ],
      "text/plain": [
       "                name  distance  moving_time  elapsed_time  \\\n",
       "0  Monday evening 5k    7203.0         1954          2643   \n",
       "1        Evening Run    1752.2          681           692   \n",
       "\n",
       "   total_elevation_gain type sport_type  workout_type start_date_local  \\\n",
       "0                  16.3  Run        Run             2       2023-05-22   \n",
       "1                  15.4  Run        Run             0       2021-11-19   \n",
       "\n",
       "  location_city                             start_latlng  \\\n",
       "0          None  [21.755251558497548, 72.14996203780174]   \n",
       "1          None   [21.74567892216146, 72.13510234840214]   \n",
       "\n",
       "                                end_latlng  average_speed  max_speed  \\\n",
       "0   [21.75527025014162, 72.14976883493364]          3.686     16.551   \n",
       "1  [21.746788937598467, 72.14080673642457]          2.573      3.910   \n",
       "\n",
       "    upload_id start_time  \n",
       "0  9784922370   19:58:37  \n",
       "1  6672986713   18:15:08  "
      ]
     },
     "execution_count": 8,
     "metadata": {},
     "output_type": "execute_result"
    }
   ],
   "source": [
    "cols = ['name', 'distance', 'moving_time', 'elapsed_time','total_elevation_gain', \n",
    "          'type', 'sport_type', 'workout_type','start_date_local',\n",
    "          'location_city', 'start_latlng', 'end_latlng', 'average_speed',\n",
    "          'max_speed', 'upload_id']\n",
    "\n",
    "activities = activities[cols]\n",
    "\n",
    "activities['start_date_local'] = pd.to_datetime(activities['start_date_local'])\n",
    "activities['start_time'] = activities['start_date_local'].dt.time\n",
    "activities['start_date_local'] = activities['start_date_local'].dt.date\n",
    "\n",
    "activities.head()"
   ]
  },
  {
   "cell_type": "code",
   "execution_count": 9,
   "metadata": {},
   "outputs": [],
   "source": [
    "dir = \"C:\\\\Users\\\\praya\\\\OneDrive\\\\Desktop\\\\Personal Health Dashboard\\\\Strava API\\\\Data_exports\\\\\"\n",
    "#last_date = activities['start_date_local'].sort_values(ascending=True)[-1]\n",
    "#name = f\"all activities until {last_date}.csv\"\n",
    "activities.to_csv(dir + 'all_strava_activities.csv', mode='w', header=True, index=False)"
   ]
  }
 ],
 "metadata": {
  "kernelspec": {
   "display_name": "strava",
   "language": "python",
   "name": "python3"
  },
  "language_info": {
   "codemirror_mode": {
    "name": "ipython",
    "version": 3
   },
   "file_extension": ".py",
   "mimetype": "text/x-python",
   "name": "python",
   "nbconvert_exporter": "python",
   "pygments_lexer": "ipython3",
   "version": "3.11.4"
  },
  "orig_nbformat": 4
 },
 "nbformat": 4,
 "nbformat_minor": 2
}
